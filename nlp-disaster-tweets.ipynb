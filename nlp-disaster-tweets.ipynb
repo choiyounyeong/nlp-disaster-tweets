{
 "cells": [
  {
   "cell_type": "markdown",
   "metadata": {},
   "source": [
    "#### CSCA 5642 Introduction to Deep Learning\n",
    "# Natural Language Processing with Disaster Tweets\n",
    "\n",
    "***\n",
    "\n",
    "## Brief Description of the Problem and Data (5 pts)\n",
    "\n",
    "The challenge is to **detect whether a tweet is about a real disaster or not**. This task is crucial in disaster response management, as accurately identifying relevant information can significantly enhance crisis response efforts. To tackle this challenge, a Natural Language Processing (NLP) model will be employed due to its effectiveness in text analysis and understanding.\n",
    "\n",
    "The data is sourced from the [Natural Language Processing with Disaster Tweets Dataset](https://www.kaggle.com/c/nlp-getting-started/data), which **includes both training and test sets**. The training set comprises **7,613 tweets**, each labeled as disaster ('1') or non-disaster ('0'). These tweets are presented in plain text format and represent a wide range of contexts and wording variations. The test set consists of unlabeled tweets that will be used to evaluate the model's performance."
   ]
  },
  {
   "cell_type": "markdown",
   "metadata": {},
   "source": [
    "***\n",
    "## Exploratory Data Analysis (EDA) — Inspect, Visualize and Clean the Data (15 pts)\n",
    "\n",
    "In the EDA step, we will check the dataset, perform cleaning procedures, and draw a few visualizations such as a Text Length Histogram and label distributions. Finally, we will discuss the plan for analysis."
   ]
  },
  {
   "cell_type": "code",
   "execution_count": 1,
   "metadata": {
    "execution": {
     "iopub.execute_input": "2024-07-28T13:12:51.131943Z",
     "iopub.status.busy": "2024-07-28T13:12:51.131669Z",
     "iopub.status.idle": "2024-07-28T13:12:53.678818Z",
     "shell.execute_reply": "2024-07-28T13:12:53.677101Z",
     "shell.execute_reply.started": "2024-07-28T13:12:51.131920Z"
    }
   },
   "outputs": [],
   "source": [
    "# Imports\n",
    "import os\n",
    "import numpy as np\n",
    "import pandas as pd\n",
    "import matplotlib.pyplot as plt\n",
    "import seaborn as sns\n",
    "import warnings\n",
    "warnings.filterwarnings('ignore')"
   ]
  },
  {
   "cell_type": "code",
   "execution_count": 2,
   "metadata": {
    "execution": {
     "iopub.execute_input": "2024-07-28T13:12:53.681949Z",
     "iopub.status.busy": "2024-07-28T13:12:53.680927Z",
     "iopub.status.idle": "2024-07-28T13:13:07.070923Z",
     "shell.execute_reply": "2024-07-28T13:13:07.070038Z",
     "shell.execute_reply.started": "2024-07-28T13:12:53.681911Z"
    }
   },
   "outputs": [
    {
     "name": "stderr",
     "output_type": "stream",
     "text": [
      "2024-07-28 13:12:56.010764: E external/local_xla/xla/stream_executor/cuda/cuda_dnn.cc:9261] Unable to register cuDNN factory: Attempting to register factory for plugin cuDNN when one has already been registered\n",
      "2024-07-28 13:12:56.010857: E external/local_xla/xla/stream_executor/cuda/cuda_fft.cc:607] Unable to register cuFFT factory: Attempting to register factory for plugin cuFFT when one has already been registered\n",
      "2024-07-28 13:12:56.178020: E external/local_xla/xla/stream_executor/cuda/cuda_blas.cc:1515] Unable to register cuBLAS factory: Attempting to register factory for plugin cuBLAS when one has already been registered\n"
     ]
    },
    {
     "name": "stdout",
     "output_type": "stream",
     "text": [
      "2.15.0\n"
     ]
    }
   ],
   "source": [
    "import tensorflow as tf\n",
    "print(tf.__version__)"
   ]
  },
  {
   "cell_type": "code",
   "execution_count": 3,
   "metadata": {
    "execution": {
     "iopub.execute_input": "2024-07-28T13:13:07.072875Z",
     "iopub.status.busy": "2024-07-28T13:13:07.072185Z",
     "iopub.status.idle": "2024-07-28T13:13:07.076978Z",
     "shell.execute_reply": "2024-07-28T13:13:07.076159Z",
     "shell.execute_reply.started": "2024-07-28T13:13:07.072839Z"
    }
   },
   "outputs": [],
   "source": [
    "import keras"
   ]
  },
  {
   "cell_type": "code",
   "execution_count": 4,
   "metadata": {
    "execution": {
     "iopub.execute_input": "2024-07-28T13:13:07.079279Z",
     "iopub.status.busy": "2024-07-28T13:13:07.078990Z",
     "iopub.status.idle": "2024-07-28T13:13:08.669229Z",
     "shell.execute_reply": "2024-07-28T13:13:08.668260Z",
     "shell.execute_reply.started": "2024-07-28T13:13:07.079255Z"
    }
   },
   "outputs": [
    {
     "name": "stdout",
     "output_type": "stream",
     "text": [
      "0.14.0\n"
     ]
    }
   ],
   "source": [
    "import keras_nlp\n",
    "print(keras_nlp.__version__)"
   ]
  },
  {
   "cell_type": "markdown",
   "metadata": {},
   "source": [
    "Let's first check the dataset and explore them."
   ]
  },
  {
   "cell_type": "code",
   "execution_count": 5,
   "metadata": {
    "execution": {
     "iopub.execute_input": "2024-07-28T13:13:08.670544Z",
     "iopub.status.busy": "2024-07-28T13:13:08.670271Z",
     "iopub.status.idle": "2024-07-28T13:13:08.677085Z",
     "shell.execute_reply": "2024-07-28T13:13:08.676069Z",
     "shell.execute_reply.started": "2024-07-28T13:13:08.670520Z"
    }
   },
   "outputs": [
    {
     "name": "stdout",
     "output_type": "stream",
     "text": [
      "['sample_submission.csv', 'train.csv', 'test.csv']\n"
     ]
    }
   ],
   "source": [
    "root_folder = '/kaggle/input/nlp-getting-started'\n",
    "print(os.listdir(root_folder))"
   ]
  },
  {
   "cell_type": "code",
   "execution_count": 6,
   "metadata": {
    "execution": {
     "iopub.execute_input": "2024-07-28T13:13:08.678571Z",
     "iopub.status.busy": "2024-07-28T13:13:08.678227Z",
     "iopub.status.idle": "2024-07-28T13:13:08.742839Z",
     "shell.execute_reply": "2024-07-28T13:13:08.741970Z",
     "shell.execute_reply.started": "2024-07-28T13:13:08.678536Z"
    }
   },
   "outputs": [
    {
     "data": {
      "text/html": [
       "<div>\n",
       "<style scoped>\n",
       "    .dataframe tbody tr th:only-of-type {\n",
       "        vertical-align: middle;\n",
       "    }\n",
       "\n",
       "    .dataframe tbody tr th {\n",
       "        vertical-align: top;\n",
       "    }\n",
       "\n",
       "    .dataframe thead th {\n",
       "        text-align: right;\n",
       "    }\n",
       "</style>\n",
       "<table border=\"1\" class=\"dataframe\">\n",
       "  <thead>\n",
       "    <tr style=\"text-align: right;\">\n",
       "      <th></th>\n",
       "      <th>id</th>\n",
       "      <th>keyword</th>\n",
       "      <th>location</th>\n",
       "      <th>text</th>\n",
       "      <th>target</th>\n",
       "    </tr>\n",
       "  </thead>\n",
       "  <tbody>\n",
       "    <tr>\n",
       "      <th>0</th>\n",
       "      <td>1</td>\n",
       "      <td>NaN</td>\n",
       "      <td>NaN</td>\n",
       "      <td>Our Deeds are the Reason of this #earthquake M...</td>\n",
       "      <td>1</td>\n",
       "    </tr>\n",
       "    <tr>\n",
       "      <th>1</th>\n",
       "      <td>4</td>\n",
       "      <td>NaN</td>\n",
       "      <td>NaN</td>\n",
       "      <td>Forest fire near La Ronge Sask. Canada</td>\n",
       "      <td>1</td>\n",
       "    </tr>\n",
       "    <tr>\n",
       "      <th>2</th>\n",
       "      <td>5</td>\n",
       "      <td>NaN</td>\n",
       "      <td>NaN</td>\n",
       "      <td>All residents asked to 'shelter in place' are ...</td>\n",
       "      <td>1</td>\n",
       "    </tr>\n",
       "    <tr>\n",
       "      <th>3</th>\n",
       "      <td>6</td>\n",
       "      <td>NaN</td>\n",
       "      <td>NaN</td>\n",
       "      <td>13,000 people receive #wildfires evacuation or...</td>\n",
       "      <td>1</td>\n",
       "    </tr>\n",
       "    <tr>\n",
       "      <th>4</th>\n",
       "      <td>7</td>\n",
       "      <td>NaN</td>\n",
       "      <td>NaN</td>\n",
       "      <td>Just got sent this photo from Ruby #Alaska as ...</td>\n",
       "      <td>1</td>\n",
       "    </tr>\n",
       "  </tbody>\n",
       "</table>\n",
       "</div>"
      ],
      "text/plain": [
       "   id keyword location                                               text  \\\n",
       "0   1     NaN      NaN  Our Deeds are the Reason of this #earthquake M...   \n",
       "1   4     NaN      NaN             Forest fire near La Ronge Sask. Canada   \n",
       "2   5     NaN      NaN  All residents asked to 'shelter in place' are ...   \n",
       "3   6     NaN      NaN  13,000 people receive #wildfires evacuation or...   \n",
       "4   7     NaN      NaN  Just got sent this photo from Ruby #Alaska as ...   \n",
       "\n",
       "   target  \n",
       "0       1  \n",
       "1       1  \n",
       "2       1  \n",
       "3       1  \n",
       "4       1  "
      ]
     },
     "execution_count": 6,
     "metadata": {},
     "output_type": "execute_result"
    }
   ],
   "source": [
    "df_train = pd.read_csv(f\"{root_folder}/train.csv\")\n",
    "df_train.head()"
   ]
  },
  {
   "cell_type": "code",
   "execution_count": 7,
   "metadata": {
    "execution": {
     "iopub.execute_input": "2024-07-28T13:13:08.744578Z",
     "iopub.status.busy": "2024-07-28T13:13:08.743940Z",
     "iopub.status.idle": "2024-07-28T13:13:08.770152Z",
     "shell.execute_reply": "2024-07-28T13:13:08.769304Z",
     "shell.execute_reply.started": "2024-07-28T13:13:08.744547Z"
    }
   },
   "outputs": [
    {
     "data": {
      "text/html": [
       "<div>\n",
       "<style scoped>\n",
       "    .dataframe tbody tr th:only-of-type {\n",
       "        vertical-align: middle;\n",
       "    }\n",
       "\n",
       "    .dataframe tbody tr th {\n",
       "        vertical-align: top;\n",
       "    }\n",
       "\n",
       "    .dataframe thead th {\n",
       "        text-align: right;\n",
       "    }\n",
       "</style>\n",
       "<table border=\"1\" class=\"dataframe\">\n",
       "  <thead>\n",
       "    <tr style=\"text-align: right;\">\n",
       "      <th></th>\n",
       "      <th>id</th>\n",
       "      <th>keyword</th>\n",
       "      <th>location</th>\n",
       "      <th>text</th>\n",
       "    </tr>\n",
       "  </thead>\n",
       "  <tbody>\n",
       "    <tr>\n",
       "      <th>0</th>\n",
       "      <td>0</td>\n",
       "      <td>NaN</td>\n",
       "      <td>NaN</td>\n",
       "      <td>Just happened a terrible car crash</td>\n",
       "    </tr>\n",
       "    <tr>\n",
       "      <th>1</th>\n",
       "      <td>2</td>\n",
       "      <td>NaN</td>\n",
       "      <td>NaN</td>\n",
       "      <td>Heard about #earthquake is different cities, s...</td>\n",
       "    </tr>\n",
       "    <tr>\n",
       "      <th>2</th>\n",
       "      <td>3</td>\n",
       "      <td>NaN</td>\n",
       "      <td>NaN</td>\n",
       "      <td>there is a forest fire at spot pond, geese are...</td>\n",
       "    </tr>\n",
       "    <tr>\n",
       "      <th>3</th>\n",
       "      <td>9</td>\n",
       "      <td>NaN</td>\n",
       "      <td>NaN</td>\n",
       "      <td>Apocalypse lighting. #Spokane #wildfires</td>\n",
       "    </tr>\n",
       "    <tr>\n",
       "      <th>4</th>\n",
       "      <td>11</td>\n",
       "      <td>NaN</td>\n",
       "      <td>NaN</td>\n",
       "      <td>Typhoon Soudelor kills 28 in China and Taiwan</td>\n",
       "    </tr>\n",
       "  </tbody>\n",
       "</table>\n",
       "</div>"
      ],
      "text/plain": [
       "   id keyword location                                               text\n",
       "0   0     NaN      NaN                 Just happened a terrible car crash\n",
       "1   2     NaN      NaN  Heard about #earthquake is different cities, s...\n",
       "2   3     NaN      NaN  there is a forest fire at spot pond, geese are...\n",
       "3   9     NaN      NaN           Apocalypse lighting. #Spokane #wildfires\n",
       "4  11     NaN      NaN      Typhoon Soudelor kills 28 in China and Taiwan"
      ]
     },
     "execution_count": 7,
     "metadata": {},
     "output_type": "execute_result"
    }
   ],
   "source": [
    "df_test = pd.read_csv(f\"{root_folder}/test.csv\")\n",
    "df_test.head()"
   ]
  },
  {
   "cell_type": "code",
   "execution_count": 8,
   "metadata": {
    "execution": {
     "iopub.execute_input": "2024-07-28T13:13:08.771496Z",
     "iopub.status.busy": "2024-07-28T13:13:08.771198Z",
     "iopub.status.idle": "2024-07-28T13:13:08.795936Z",
     "shell.execute_reply": "2024-07-28T13:13:08.795046Z",
     "shell.execute_reply.started": "2024-07-28T13:13:08.771460Z"
    }
   },
   "outputs": [
    {
     "name": "stdout",
     "output_type": "stream",
     "text": [
      "<class 'pandas.core.frame.DataFrame'>\n",
      "RangeIndex: 7613 entries, 0 to 7612\n",
      "Data columns (total 5 columns):\n",
      " #   Column    Non-Null Count  Dtype \n",
      "---  ------    --------------  ----- \n",
      " 0   id        7613 non-null   int64 \n",
      " 1   keyword   7552 non-null   object\n",
      " 2   location  5080 non-null   object\n",
      " 3   text      7613 non-null   object\n",
      " 4   target    7613 non-null   int64 \n",
      "dtypes: int64(2), object(3)\n",
      "memory usage: 297.5+ KB\n"
     ]
    }
   ],
   "source": [
    "df_train.info()"
   ]
  },
  {
   "cell_type": "code",
   "execution_count": 9,
   "metadata": {
    "execution": {
     "iopub.execute_input": "2024-07-28T13:13:08.797350Z",
     "iopub.status.busy": "2024-07-28T13:13:08.797078Z",
     "iopub.status.idle": "2024-07-28T13:13:08.806288Z",
     "shell.execute_reply": "2024-07-28T13:13:08.805388Z",
     "shell.execute_reply.started": "2024-07-28T13:13:08.797326Z"
    }
   },
   "outputs": [
    {
     "data": {
      "text/plain": [
       "keyword\n",
       "fatalities               45\n",
       "armageddon               42\n",
       "deluge                   42\n",
       "harm                     41\n",
       "damage                   41\n",
       "                         ..\n",
       "forest%20fire            19\n",
       "epicentre                12\n",
       "threat                   11\n",
       "inundation               10\n",
       "radiation%20emergency     9\n",
       "Name: count, Length: 221, dtype: int64"
      ]
     },
     "execution_count": 9,
     "metadata": {},
     "output_type": "execute_result"
    }
   ],
   "source": [
    "df_train[\"keyword\"].value_counts()"
   ]
  },
  {
   "cell_type": "code",
   "execution_count": 10,
   "metadata": {
    "execution": {
     "iopub.execute_input": "2024-07-28T13:13:08.809833Z",
     "iopub.status.busy": "2024-07-28T13:13:08.809552Z",
     "iopub.status.idle": "2024-07-28T13:13:08.820599Z",
     "shell.execute_reply": "2024-07-28T13:13:08.819721Z",
     "shell.execute_reply.started": "2024-07-28T13:13:08.809811Z"
    }
   },
   "outputs": [
    {
     "data": {
      "text/plain": [
       "location\n",
       "USA                    104\n",
       "New York                71\n",
       "United States           50\n",
       "London                  45\n",
       "Canada                  29\n",
       "                      ... \n",
       "Some pum pum             1\n",
       "Paulton, England         1\n",
       "SEA Server               1\n",
       "todaysbigstock.com       1\n",
       "???????? ?????????.      1\n",
       "Name: count, Length: 3341, dtype: int64"
      ]
     },
     "execution_count": 10,
     "metadata": {},
     "output_type": "execute_result"
    }
   ],
   "source": [
    "df_train[\"location\"].value_counts()"
   ]
  },
  {
   "cell_type": "markdown",
   "metadata": {},
   "source": [
    "It looks like some of the `keyword` and `location` values may be missing. However, since we are not planning to use `location` and `keyword` as features in our NLP model, we will ignore these columns entirely. Therefore, cleaning them is unnecessary.\n",
    "\n",
    "And **for handling stopwords, since we are using contextual models like DistilBERT and RoBERTa that provide context to the user's intent, we will keep the stopwords instead of removing them, as they offer sufficient context information.**"
   ]
  },
  {
   "cell_type": "code",
   "execution_count": 11,
   "metadata": {
    "execution": {
     "iopub.execute_input": "2024-07-28T13:13:08.821922Z",
     "iopub.status.busy": "2024-07-28T13:13:08.821653Z",
     "iopub.status.idle": "2024-07-28T13:13:08.834210Z",
     "shell.execute_reply": "2024-07-28T13:13:08.833194Z",
     "shell.execute_reply.started": "2024-07-28T13:13:08.821893Z"
    }
   },
   "outputs": [
    {
     "name": "stdout",
     "output_type": "stream",
     "text": [
      "<class 'pandas.core.frame.DataFrame'>\n",
      "RangeIndex: 7613 entries, 0 to 7612\n",
      "Data columns (total 2 columns):\n",
      " #   Column  Non-Null Count  Dtype \n",
      "---  ------  --------------  ----- \n",
      " 0   text    7613 non-null   object\n",
      " 1   target  7613 non-null   int64 \n",
      "dtypes: int64(1), object(1)\n",
      "memory usage: 119.1+ KB\n"
     ]
    }
   ],
   "source": [
    "df_train = df_train[['text', 'target']]\n",
    "df_train.info()"
   ]
  },
  {
   "cell_type": "markdown",
   "metadata": {},
   "source": [
    "Now, let's examine the distribution of text length and the labels."
   ]
  },
  {
   "cell_type": "code",
   "execution_count": 12,
   "metadata": {
    "execution": {
     "iopub.execute_input": "2024-07-28T13:13:08.835691Z",
     "iopub.status.busy": "2024-07-28T13:13:08.835355Z",
     "iopub.status.idle": "2024-07-28T13:13:09.552664Z",
     "shell.execute_reply": "2024-07-28T13:13:09.551736Z",
     "shell.execute_reply.started": "2024-07-28T13:13:08.835663Z"
    }
   },
   "outputs": [
    {
     "data": {
      "image/png": "[encoded data removed]",
      "text/plain": [
       "<Figure size 1000x600 with 1 Axes>"
      ]
     },
     "metadata": {},
     "output_type": "display_data"
    },
    {
     "data": {
      "image/png": "[encoded data removed]",
      "text/plain": [
       "<Figure size 800x600 with 1 Axes>"
      ]
     },
     "metadata": {},
     "output_type": "display_data"
    }
   ],
   "source": [
    "# Suppress the specific warning\n",
    "warnings.filterwarnings(\"ignore\", category=FutureWarning, module=\"seaborn\")\n",
    "\n",
    "# Compute text length\n",
    "df_train['text_length'] = df_train['text'].apply(len)\n",
    "\n",
    "# 1. Text Length Histogram\n",
    "plt.figure(figsize=(10, 6))\n",
    "sns.histplot(df_train['text_length'], bins=30, kde=True)\n",
    "plt.title('Text Length Histogram')\n",
    "plt.xlabel('Text Length')\n",
    "plt.ylabel('Frequency')\n",
    "plt.show()\n",
    "\n",
    "# 2. Target Distribution\n",
    "plt.figure(figsize=(8, 6))\n",
    "sns.countplot(x='target', data=df_train)\n",
    "plt.title('Target Distribution')\n",
    "plt.xlabel('Target')\n",
    "plt.ylabel('Count')\n",
    "plt.show()\n"
   ]
  },
  {
   "cell_type": "markdown",
   "metadata": {},
   "source": [
    "The first plot, the text length histogram, reveals the distribution of text lengths within the dataset. The histogram indicates that the text lengths vary widely, with a noticeable peak around 140 characters, suggesting that a significant portion of the texts are close to this length. This distribution is slightly right-skewed, indicating that there are some texts with lengths significantly shorter than the peak, but few texts longer than 140 characters.\n",
    "\n",
    "The second plot, the target distribution, shows the count of the target variable, which has binary values of 0 and 1. The plot reveals that there are more instances with a target value of 0 compared to 1, indicating an imbalance in the dataset. Specifically, there are approximately 4000 instances with a target of 0 and about 3600 instances with a target of 1. This imbalance might be important to consider when building and evaluating predictive models, as it could affect the performance and the metrics used to measure model accuracy."
   ]
  },
  {
   "cell_type": "markdown",
   "metadata": {},
   "source": [
    "# Plan of analysis\n",
    "Based on our exploratory data analysis, the plan for analysis includes:\n",
    "\n",
    "- **Data Preparation**: Use the provided dataset and split it into training and validation sets.\n",
    "- **Model Building**: Construct two models using Keras NLP - one with DistilBERT and another with RoBERTa for text classification.\n",
    "- **Hyperparameter Tuning**: Utilize keras_tuner to find the optimal hyperparameters for each model.\n",
    "- **Model Training**: Train both models using the best hyperparameters found through tuning.\n",
    "- **Evaluation**: Evaluate the performance of both models on the validation set.\n",
    "\n",
    "By following this plan, we aim to build robust models capable of accurately classifying text data."
   ]
  },
  {
   "cell_type": "markdown",
   "metadata": {},
   "source": [
    "# Model Architecture (25 pts)\n",
    "\n",
    "We are going to load **two pretrained models, DistilBERT and RoBERTa**, both of which follow a transformer architecture for natural language processing tasks. BERT has proven to be effective in handling NLP tasks.\n",
    "\n",
    "**Model's architecture**:\n",
    "\n",
    "**1. DistilBERT**\n",
    "\n",
    "- Embedding Layer:\n",
    "Converts input tokens into dense vectors that capture the meaning of the words.\n",
    "\n",
    "- Transformer Layers:\n",
    "Comprises 6 layers of transformers (half of BERT's 12 layers).\n",
    "Each layer has self-attention mechanisms to understand the context of each word relative to others in the sentence.\n",
    "Positional embeddings are added to capture the order of words.\n",
    "\n",
    "- Classification Head:\n",
    "A feed-forward neural network layer that takes the final transformer outputs and predicts the class label for the input text.\n",
    "\n",
    "**2. RoBERTa**\n",
    "- Embedding Layer:\n",
    "Converts input tokens into dense vectors similar to DistilBERT.\n",
    "\n",
    "- Transformer Layers:\n",
    "Comprises 12 layers of transformers, similar to BERT but with optimizations.\n",
    "Enhanced self-attention mechanisms and layer normalization to better capture the context and relationships between words.\n",
    "Trained with dynamic masking and larger datasets.\n",
    "\n",
    "- Classification Head:\n",
    "Similar to DistilBERT, a feed-forward neural network layer that predicts the class label for the input text."
   ]
  },
  {
   "cell_type": "markdown",
   "metadata": {},
   "source": [
    "**Reasoning for Using these Architectures**\n",
    "\n",
    "- Pretrained Models:\n",
    "\n",
    "These models are pretrained on large corpora, allowing them to understand and process text effectively even with smaller task-specific datasets. This pretraining provides a solid foundation for various NLP tasks.\n",
    "\n",
    "- Efficiency and Performance:\n",
    "\n",
    "DistilBERT offers a good balance between efficiency and performance. It is faster and smaller, making it suitable for applications where computational resources are limited.\n",
    "RoBERTa, with its robust training and optimizations, provides enhanced performance and accuracy, making it suitable for scenarios where achieving the highest accuracy is critical.\n",
    "\n",
    "- Flexibility:\n",
    "\n",
    "Both models are designed to be fine-tuned for specific tasks, such as text classification. Fine-tuning adjusts the pretrained models to the nuances of the specific dataset and task, improving their performance."
   ]
  },
  {
   "cell_type": "markdown",
   "metadata": {
    "execution": {
     "iopub.execute_input": "2024-07-27T12:14:28.188818Z",
     "iopub.status.busy": "2024-07-27T12:14:28.188331Z",
     "iopub.status.idle": "2024-07-27T12:14:28.202309Z",
     "shell.execute_reply": "2024-07-27T12:14:28.201295Z",
     "shell.execute_reply.started": "2024-07-27T12:14:28.188781Z"
    }
   },
   "source": [
    "***\n",
    "First, let's split the training and validation data using scikit-learn."
   ]
  },
  {
   "cell_type": "code",
   "execution_count": 13,
   "metadata": {
    "execution": {
     "iopub.execute_input": "2024-07-28T13:13:09.554131Z",
     "iopub.status.busy": "2024-07-28T13:13:09.553824Z",
     "iopub.status.idle": "2024-07-28T13:13:09.721131Z",
     "shell.execute_reply": "2024-07-28T13:13:09.720180Z",
     "shell.execute_reply.started": "2024-07-28T13:13:09.554106Z"
    }
   },
   "outputs": [
    {
     "name": "stdout",
     "output_type": "stream",
     "text": [
      "Number of training samples: 6090\n",
      "Number of validation samples: 1523\n"
     ]
    }
   ],
   "source": [
    "from sklearn.model_selection import train_test_split\n",
    "\n",
    "X = df_train['text']\n",
    "y = df_train['target']\n",
    "\n",
    "X_train, X_val, y_train, y_val = train_test_split(X, y, test_size=0.2, random_state=42)\n",
    "\n",
    "print(f\"Number of training samples: {len(X_train)}\")\n",
    "print(f\"Number of validation samples: {len(X_val)}\")"
   ]
  },
  {
   "cell_type": "markdown",
   "metadata": {},
   "source": [
    "## Model 1 - DistilBert\n",
    "\n",
    "The first pretrained model we are going to use is **DistilBert**.\n",
    "\n",
    "DistilBERT is a smaller, faster, and cheaper version of the BERT (Bidirectional Encoder Representations from Transformers) model. It retains 97% of BERT's language understanding capabilities while being 60% faster and having 40% fewer parameters.\n",
    "\n",
    "***How it works:***\n",
    "\n",
    "It reads text and understands the context of words in sentences. For example, it knows that \"bank\" can mean a financial institution or the side of a river based on surrounding words. It learns from vast amounts of text data to predict missing words in sentences, which helps it understand language patterns.\n",
    "\n",
    "The code below defines a hypermodel for tuning a DistilBERT-based classifier. It begins by importing keras_tuner for hyperparameter tuning and keras_nlp for utilizing NLP models. The DistilBertHyperModel class is defined to facilitate hyperparameter tuning for a DistilBERT-based model. The build method within this class initializes the DistilBertPreprocessor and DistilBertClassifier from preset configurations. A hyperparameter for the learning rate is defined within a specified range. The model is then compiled with the Adam optimizer and Sparse Categorical Crossentropy loss."
   ]
  },
  {
   "cell_type": "code",
   "execution_count": 20,
   "metadata": {
    "execution": {
     "iopub.execute_input": "2024-07-28T12:16:53.774567Z",
     "iopub.status.busy": "2024-07-28T12:16:53.774160Z",
     "iopub.status.idle": "2024-07-28T12:16:53.838672Z",
     "shell.execute_reply": "2024-07-28T12:16:53.837721Z",
     "shell.execute_reply.started": "2024-07-28T12:16:53.774525Z"
    }
   },
   "outputs": [],
   "source": [
    "import keras_tuner as kt\n",
    "# Define HyperModel for DistilBERT\n",
    "class DistilBertHyperModel(kt.HyperModel):\n",
    "    def build(self, hp):\n",
    "        preprocessor = keras_nlp.models.DistilBertPreprocessor.from_preset(\n",
    "            \"distil_bert_base_en_uncased\"\n",
    "        )\n",
    "        model = keras_nlp.models.DistilBertClassifier.from_preset(\n",
    "            \"distil_bert_base_en_uncased\",\n",
    "            preprocessor=preprocessor,\n",
    "            num_classes=2\n",
    "        )\n",
    "\n",
    "        # Hyperparameters\n",
    "        learning_rate = hp.Float('learning_rate', min_value=1e-5, max_value=1e-4, step=9e-5)\n",
    "        optimizer = keras.optimizers.Adam(learning_rate)\n",
    "\n",
    "        model.compile(\n",
    "            loss=keras.losses.SparseCategoricalCrossentropy(from_logits=True),\n",
    "            optimizer=optimizer,\n",
    "            metrics=[\"accuracy\"]\n",
    "        )\n",
    "        return model"
   ]
  },
  {
   "cell_type": "markdown",
   "metadata": {},
   "source": [
    "## Model 2 - RoBERTa\n",
    "\n",
    "The second pretrained model we are going to use is **RoBERTa**.\n",
    "\n",
    "RoBERTa (Robustly optimized BERT approach) is an optimized version of BERT. It improves BERT by training with more data, longer training times, and removing some of BERT's training constraints.\n",
    "\n",
    "***How it works:***\n",
    "\n",
    "Like BERT, RoBERTa reads and understands the context of words in sentences. It uses a transformer architecture to do this, paying attention to all words in a sentence to grasp their meanings. RoBERTa can be fine-tuned for various tasks, like text classification, where it learns to categorize text based on the training it receives.\n"
   ]
  },
  {
   "cell_type": "code",
   "execution_count": 21,
   "metadata": {
    "execution": {
     "iopub.execute_input": "2024-07-28T12:16:55.649940Z",
     "iopub.status.busy": "2024-07-28T12:16:55.649479Z",
     "iopub.status.idle": "2024-07-28T12:16:55.657007Z",
     "shell.execute_reply": "2024-07-28T12:16:55.655920Z",
     "shell.execute_reply.started": "2024-07-28T12:16:55.649910Z"
    }
   },
   "outputs": [],
   "source": [
    "# Define HyperModel for RoBERTa\n",
    "class RobertaHyperModel(kt.HyperModel):\n",
    "    def build(self, hp):\n",
    "        preprocessor = keras_nlp.models.RobertaPreprocessor.from_preset(\n",
    "            \"roberta_base_en\"\n",
    "        )\n",
    "        model = keras_nlp.models.RobertaClassifier.from_preset(\n",
    "            \"roberta_base_en\",\n",
    "            preprocessor=preprocessor,\n",
    "            num_classes=2\n",
    "        )\n",
    "\n",
    "        # Hyperparameters\n",
    "        learning_rate = hp.Float('learning_rate', min_value=1e-5, max_value=1e-4, step=9e-5)\n",
    "        optimizer = keras.optimizers.Adam(learning_rate)\n",
    "\n",
    "        model.compile(\n",
    "            loss=keras.losses.SparseCategoricalCrossentropy(from_logits=True),\n",
    "            optimizer=optimizer,\n",
    "            metrics=[\"accuracy\"]\n",
    "        )\n",
    "        return model"
   ]
  },
  {
   "cell_type": "markdown",
   "metadata": {},
   "source": [
    "## Hyperparameter Tuning and Model Training\n",
    "\n",
    "The following code performs hyperparameter tuning for two models: DistilBERT and RoBERTa. The tuning process is conducted using `keras_tuner` to optimize the `val_accuracy`. The best models are then trained, and their weights are saved.\n",
    "\n",
    "### Initializing the Tuner\n",
    "\n",
    "The `kt.RandomSearch` tuner is used to search for the best hyperparameters for both DistilBERT and RoBERTa models.\n",
    "\n",
    "### Callbacks\n",
    "The `ModelCheckpoint` and `EarlyStopping` callbacks are defined to monitor the validation accuracy and save the best model weights. Early stopping helps to avoid overfitting by stopping training when no improvement is observed.\n"
   ]
  },
  {
   "cell_type": "code",
   "execution_count": 22,
   "metadata": {
    "execution": {
     "iopub.execute_input": "2024-07-28T12:17:02.239675Z",
     "iopub.status.busy": "2024-07-28T12:17:02.239316Z",
     "iopub.status.idle": "2024-07-28T12:17:13.548602Z",
     "shell.execute_reply": "2024-07-28T12:17:13.547819Z",
     "shell.execute_reply.started": "2024-07-28T12:17:02.239649Z"
    }
   },
   "outputs": [
    {
     "name": "stdout",
     "output_type": "stream",
     "text": [
      "Reloading Tuner from distilbert_tuning/distilbert/tuner0.json\n",
      "Attaching 'model.safetensors' from model 'keras/roberta/keras/roberta_base_en/2' to your Kaggle notebook...\n",
      "Attaching 'model.safetensors.index.json' from model 'keras/roberta/keras/roberta_base_en/2' to your Kaggle notebook...\n",
      "Attaching 'metadata.json' from model 'keras/roberta/keras/roberta_base_en/2' to your Kaggle notebook...\n",
      "Attaching 'metadata.json' from model 'keras/roberta/keras/roberta_base_en/2' to your Kaggle notebook...\n",
      "Attaching 'preprocessor.json' from model 'keras/roberta/keras/roberta_base_en/2' to your Kaggle notebook...\n",
      "Attaching 'tokenizer.json' from model 'keras/roberta/keras/roberta_base_en/2' to your Kaggle notebook...\n",
      "Attaching 'tokenizer.json' from model 'keras/roberta/keras/roberta_base_en/2' to your Kaggle notebook...\n",
      "Attaching 'assets/tokenizer/vocabulary.json' from model 'keras/roberta/keras/roberta_base_en/2' to your Kaggle notebook...\n",
      "Attaching 'assets/tokenizer/merges.txt' from model 'keras/roberta/keras/roberta_base_en/2' to your Kaggle notebook...\n",
      "Attaching 'model.safetensors' from model 'keras/roberta/keras/roberta_base_en/2' to your Kaggle notebook...\n",
      "Attaching 'model.safetensors.index.json' from model 'keras/roberta/keras/roberta_base_en/2' to your Kaggle notebook...\n",
      "Attaching 'metadata.json' from model 'keras/roberta/keras/roberta_base_en/2' to your Kaggle notebook...\n",
      "Attaching 'metadata.json' from model 'keras/roberta/keras/roberta_base_en/2' to your Kaggle notebook...\n",
      "Attaching 'task.json' from model 'keras/roberta/keras/roberta_base_en/2' to your Kaggle notebook...\n",
      "Attaching 'config.json' from model 'keras/roberta/keras/roberta_base_en/2' to your Kaggle notebook...\n",
      "Attaching 'model.safetensors' from model 'keras/roberta/keras/roberta_base_en/2' to your Kaggle notebook...\n",
      "Attaching 'model.safetensors.index.json' from model 'keras/roberta/keras/roberta_base_en/2' to your Kaggle notebook...\n",
      "Attaching 'metadata.json' from model 'keras/roberta/keras/roberta_base_en/2' to your Kaggle notebook...\n",
      "Attaching 'metadata.json' from model 'keras/roberta/keras/roberta_base_en/2' to your Kaggle notebook...\n",
      "Attaching 'config.json' from model 'keras/roberta/keras/roberta_base_en/2' to your Kaggle notebook...\n",
      "Attaching 'config.json' from model 'keras/roberta/keras/roberta_base_en/2' to your Kaggle notebook...\n",
      "Attaching 'model.weights.h5' from model 'keras/roberta/keras/roberta_base_en/2' to your Kaggle notebook...\n"
     ]
    }
   ],
   "source": [
    "from keras.callbacks import ModelCheckpoint, EarlyStopping\n",
    "\n",
    "# Initialize the tuner\n",
    "distilbert_tuner = kt.RandomSearch(\n",
    "    DistilBertHyperModel(),\n",
    "    objective='val_accuracy',\n",
    "    max_trials=5,\n",
    "    executions_per_trial=1,\n",
    "    directory='distilbert_tuning',\n",
    "    project_name='distilbert'\n",
    ")\n",
    "\n",
    "roberta_tuner = kt.RandomSearch(\n",
    "    RobertaHyperModel(),\n",
    "    objective='val_accuracy',\n",
    "    max_trials=5,\n",
    "    executions_per_trial=1,\n",
    "    directory='roberta_tuning',\n",
    "    project_name='roberta'\n",
    ")\n",
    "\n",
    "# Define the ModelCheckpoint callback\n",
    "checkpoint1 = ModelCheckpoint(\n",
    "    'best_distilbert_model.keras',\n",
    "    monitor='val_accuracy',\n",
    "    save_best_only=True,\n",
    "    mode='max',\n",
    "    verbose=1\n",
    ")\n",
    "\n",
    "early_stopping1 = EarlyStopping(\n",
    "    monitor='val_accuracy',  # Metric to monitor\n",
    "    patience=1,  # Number of epochs to wait before stopping when no improvement\n",
    "    mode='max',  # We want to maximize the validation accuracy\n",
    "    verbose=1  # Print a message when stopping\n",
    ")\n",
    "\n",
    "checkpoint2 = ModelCheckpoint(\n",
    "    'best_roberta_model.keras',\n",
    "    monitor='val_accuracy',\n",
    "    save_best_only=True,\n",
    "    mode='max',\n",
    "    verbose=1\n",
    ")\n",
    "\n",
    "early_stopping2 = EarlyStopping(\n",
    "    monitor='val_accuracy',  # Metric to monitor\n",
    "    patience=1,  # Number of epochs to wait before stopping when no improvement\n",
    "    mode='max',  # We want to maximize the validation accuracy\n",
    "    verbose=1  # Print a message when stopping\n",
    ")"
   ]
  },
  {
   "cell_type": "markdown",
   "metadata": {},
   "source": [
    "### Running the Hyperparameter Search\n",
    "The hyperparameter search is conducted for both models using the defined callbacks.\n",
    "\n",
    "### Getting the Best Hyperparameters and Models\n",
    "The best hyperparameters found during the search are used to build the models. The best weights are then loaded into the models."
   ]
  },
  {
   "cell_type": "code",
   "execution_count": 17,
   "metadata": {
    "execution": {
     "iopub.execute_input": "2024-07-28T11:47:26.122190Z",
     "iopub.status.busy": "2024-07-28T11:47:26.121755Z",
     "iopub.status.idle": "2024-07-28T12:01:14.180085Z",
     "shell.execute_reply": "2024-07-28T12:01:14.178937Z",
     "shell.execute_reply.started": "2024-07-28T11:47:26.122156Z"
    }
   },
   "outputs": [
    {
     "name": "stdout",
     "output_type": "stream",
     "text": [
      "Trial 2 Complete [00h 06m 45s]\n",
      "val_accuracy: 0.8345370888710022\n",
      "\n",
      "Best val_accuracy So Far: 0.8437294960021973\n",
      "Total elapsed time: 00h 13m 48s\n"
     ]
    }
   ],
   "source": [
    "# Run the hyperparameter search for distilbert\n",
    "distilbert_tuner.search(\n",
    "    X_train, y_train,\n",
    "    validation_data=(X_val, y_val),\n",
    "    epochs=1,\n",
    "    callbacks=[checkpoint1, early_stopping1],\n",
    "    verbose=1\n",
    ")"
   ]
  },
  {
   "cell_type": "code",
   "execution_count": 18,
   "metadata": {
    "execution": {
     "iopub.execute_input": "2024-07-28T12:01:21.856022Z",
     "iopub.status.busy": "2024-07-28T12:01:21.855175Z",
     "iopub.status.idle": "2024-07-28T12:02:13.883593Z",
     "shell.execute_reply": "2024-07-28T12:02:13.882596Z",
     "shell.execute_reply.started": "2024-07-28T12:01:21.855989Z"
    }
   },
   "outputs": [
    {
     "name": "stdout",
     "output_type": "stream",
     "text": [
      "Best hyperparameters for DistilBERT: {'learning_rate': 1e-05}\n",
      "Attaching 'model.safetensors' from model 'keras/distil_bert/keras/distil_bert_base_en_uncased/2' to your Kaggle notebook...\n",
      "Attaching 'model.safetensors.index.json' from model 'keras/distil_bert/keras/distil_bert_base_en_uncased/2' to your Kaggle notebook...\n",
      "Attaching 'metadata.json' from model 'keras/distil_bert/keras/distil_bert_base_en_uncased/2' to your Kaggle notebook...\n",
      "Attaching 'metadata.json' from model 'keras/distil_bert/keras/distil_bert_base_en_uncased/2' to your Kaggle notebook...\n",
      "Attaching 'preprocessor.json' from model 'keras/distil_bert/keras/distil_bert_base_en_uncased/2' to your Kaggle notebook...\n",
      "Attaching 'tokenizer.json' from model 'keras/distil_bert/keras/distil_bert_base_en_uncased/2' to your Kaggle notebook...\n",
      "Attaching 'tokenizer.json' from model 'keras/distil_bert/keras/distil_bert_base_en_uncased/2' to your Kaggle notebook...\n",
      "Attaching 'assets/tokenizer/vocabulary.txt' from model 'keras/distil_bert/keras/distil_bert_base_en_uncased/2' to your Kaggle notebook...\n",
      "Attaching 'model.safetensors' from model 'keras/distil_bert/keras/distil_bert_base_en_uncased/2' to your Kaggle notebook...\n",
      "Attaching 'model.safetensors.index.json' from model 'keras/distil_bert/keras/distil_bert_base_en_uncased/2' to your Kaggle notebook...\n",
      "Attaching 'metadata.json' from model 'keras/distil_bert/keras/distil_bert_base_en_uncased/2' to your Kaggle notebook...\n",
      "Attaching 'metadata.json' from model 'keras/distil_bert/keras/distil_bert_base_en_uncased/2' to your Kaggle notebook...\n",
      "Attaching 'task.json' from model 'keras/distil_bert/keras/distil_bert_base_en_uncased/2' to your Kaggle notebook...\n",
      "Attaching 'config.json' from model 'keras/distil_bert/keras/distil_bert_base_en_uncased/2' to your Kaggle notebook...\n",
      "Attaching 'model.safetensors' from model 'keras/distil_bert/keras/distil_bert_base_en_uncased/2' to your Kaggle notebook...\n",
      "Attaching 'model.safetensors.index.json' from model 'keras/distil_bert/keras/distil_bert_base_en_uncased/2' to your Kaggle notebook...\n",
      "Attaching 'metadata.json' from model 'keras/distil_bert/keras/distil_bert_base_en_uncased/2' to your Kaggle notebook...\n",
      "Attaching 'metadata.json' from model 'keras/distil_bert/keras/distil_bert_base_en_uncased/2' to your Kaggle notebook...\n",
      "Attaching 'config.json' from model 'keras/distil_bert/keras/distil_bert_base_en_uncased/2' to your Kaggle notebook...\n",
      "Attaching 'config.json' from model 'keras/distil_bert/keras/distil_bert_base_en_uncased/2' to your Kaggle notebook...\n",
      "Attaching 'model.weights.h5' from model 'keras/distil_bert/keras/distil_bert_base_en_uncased/2' to your Kaggle notebook...\n"
     ]
    }
   ],
   "source": [
    "# Get the best hyperparameters for each model\n",
    "best_distilbert_hps = distilbert_tuner.get_best_hyperparameters()[0]\n",
    "print(\"Best hyperparameters for DistilBERT:\", best_distilbert_hps.values)\n",
    "\n",
    "# Build the models using the best hyperparameters\n",
    "best_distilbert_model = distilbert_tuner.hypermodel.build(best_distilbert_hps)\n",
    "\n",
    "# Load the best weights\n",
    "best_distilbert_model.load_weights('best_distilbert_model.keras')"
   ]
  },
  {
   "cell_type": "code",
   "execution_count": 4,
   "metadata": {
    "execution": {
     "iopub.execute_input": "2024-07-28T12:16:30.583750Z",
     "iopub.status.busy": "2024-07-28T12:16:30.582943Z",
     "iopub.status.idle": "2024-07-28T12:16:30.588505Z",
     "shell.execute_reply": "2024-07-28T12:16:30.587610Z",
     "shell.execute_reply.started": "2024-07-28T12:16:30.583720Z"
    }
   },
   "outputs": [],
   "source": [
    "import shutil\n",
    "shutil.rmtree(\"./roberta_tuning\")"
   ]
  },
  {
   "cell_type": "code",
   "execution_count": 23,
   "metadata": {
    "execution": {
     "iopub.execute_input": "2024-07-28T12:17:13.550332Z",
     "iopub.status.busy": "2024-07-28T12:17:13.550053Z",
     "iopub.status.idle": "2024-07-28T12:44:04.784623Z",
     "shell.execute_reply": "2024-07-28T12:44:04.783698Z",
     "shell.execute_reply.started": "2024-07-28T12:17:13.550307Z"
    }
   },
   "outputs": [
    {
     "name": "stdout",
     "output_type": "stream",
     "text": [
      "Trial 2 Complete [00h 13m 18s]\n",
      "val_accuracy: 0.5738673806190491\n",
      "\n",
      "Best val_accuracy So Far: 0.8463558554649353\n",
      "Total elapsed time: 00h 26m 51s\n"
     ]
    }
   ],
   "source": [
    "# Run the hyperparameter search for roberta\n",
    "roberta_tuner.search(\n",
    "    X_train, y_train,\n",
    "    validation_data=(X_val, y_val),\n",
    "    epochs=1,\n",
    "    callbacks=[checkpoint2, early_stopping2],\n",
    "    verbose=1,\n",
    "    batch_size=16\n",
    ")"
   ]
  },
  {
   "cell_type": "code",
   "execution_count": 24,
   "metadata": {
    "execution": {
     "iopub.execute_input": "2024-07-28T12:44:04.786605Z",
     "iopub.status.busy": "2024-07-28T12:44:04.786283Z",
     "iopub.status.idle": "2024-07-28T12:46:32.723482Z",
     "shell.execute_reply": "2024-07-28T12:46:32.722453Z",
     "shell.execute_reply.started": "2024-07-28T12:44:04.786575Z"
    }
   },
   "outputs": [
    {
     "name": "stdout",
     "output_type": "stream",
     "text": [
      "Best hyperparameters for RoBERTa: {'learning_rate': 1e-05}\n",
      "Attaching 'model.safetensors' from model 'keras/roberta/keras/roberta_base_en/2' to your Kaggle notebook...\n",
      "Attaching 'model.safetensors.index.json' from model 'keras/roberta/keras/roberta_base_en/2' to your Kaggle notebook...\n",
      "Attaching 'metadata.json' from model 'keras/roberta/keras/roberta_base_en/2' to your Kaggle notebook...\n",
      "Attaching 'metadata.json' from model 'keras/roberta/keras/roberta_base_en/2' to your Kaggle notebook...\n",
      "Attaching 'preprocessor.json' from model 'keras/roberta/keras/roberta_base_en/2' to your Kaggle notebook...\n",
      "Attaching 'tokenizer.json' from model 'keras/roberta/keras/roberta_base_en/2' to your Kaggle notebook...\n",
      "Attaching 'tokenizer.json' from model 'keras/roberta/keras/roberta_base_en/2' to your Kaggle notebook...\n",
      "Attaching 'assets/tokenizer/vocabulary.json' from model 'keras/roberta/keras/roberta_base_en/2' to your Kaggle notebook...\n",
      "Attaching 'assets/tokenizer/merges.txt' from model 'keras/roberta/keras/roberta_base_en/2' to your Kaggle notebook...\n",
      "Attaching 'model.safetensors' from model 'keras/roberta/keras/roberta_base_en/2' to your Kaggle notebook...\n",
      "Attaching 'model.safetensors.index.json' from model 'keras/roberta/keras/roberta_base_en/2' to your Kaggle notebook...\n",
      "Attaching 'metadata.json' from model 'keras/roberta/keras/roberta_base_en/2' to your Kaggle notebook...\n",
      "Attaching 'metadata.json' from model 'keras/roberta/keras/roberta_base_en/2' to your Kaggle notebook...\n",
      "Attaching 'task.json' from model 'keras/roberta/keras/roberta_base_en/2' to your Kaggle notebook...\n",
      "Attaching 'config.json' from model 'keras/roberta/keras/roberta_base_en/2' to your Kaggle notebook...\n",
      "Attaching 'model.safetensors' from model 'keras/roberta/keras/roberta_base_en/2' to your Kaggle notebook...\n",
      "Attaching 'model.safetensors.index.json' from model 'keras/roberta/keras/roberta_base_en/2' to your Kaggle notebook...\n",
      "Attaching 'metadata.json' from model 'keras/roberta/keras/roberta_base_en/2' to your Kaggle notebook...\n",
      "Attaching 'metadata.json' from model 'keras/roberta/keras/roberta_base_en/2' to your Kaggle notebook...\n",
      "Attaching 'config.json' from model 'keras/roberta/keras/roberta_base_en/2' to your Kaggle notebook...\n",
      "Attaching 'config.json' from model 'keras/roberta/keras/roberta_base_en/2' to your Kaggle notebook...\n",
      "Attaching 'model.weights.h5' from model 'keras/roberta/keras/roberta_base_en/2' to your Kaggle notebook...\n"
     ]
    }
   ],
   "source": [
    "# Get the best hyperparameters for each model\n",
    "best_roberta_hps = roberta_tuner.get_best_hyperparameters()[0]\n",
    "print(\"Best hyperparameters for RoBERTa:\", best_roberta_hps.values)\n",
    "\n",
    "# Build the models using the best hyperparameters\n",
    "best_roberta_model = roberta_tuner.hypermodel.build(best_roberta_hps)\n",
    "\n",
    "# Load the best weights\n",
    "best_roberta_model.load_weights('best_roberta_model.keras')"
   ]
  },
  {
   "cell_type": "markdown",
   "metadata": {},
   "source": [
    "### Model Training and Evaluation\n",
    "After determining the best hyperparameters through the hyperparameter search, the models were trained using these optimal settings to capture their training history. This process enabled detailed analysis of the models' performance across epochs. The best-performing model identified was the `RoBERTa model` which utilized a learning rate of `1e-5`. Following training, the models were evaluated on the validation set to assess their performance, confirming the superiority of the RoBERTa model with the specified learning rate.\n",
    "\n",
    "Next, we will retrain the best model with the best hyperparameter, visualize the results, and predict the test dataset."
   ]
  },
  {
   "cell_type": "code",
   "execution_count": 14,
   "metadata": {
    "execution": {
     "iopub.execute_input": "2024-07-28T13:13:09.722794Z",
     "iopub.status.busy": "2024-07-28T13:13:09.722462Z",
     "iopub.status.idle": "2024-07-28T14:15:11.225510Z",
     "shell.execute_reply": "2024-07-28T14:15:11.224328Z",
     "shell.execute_reply.started": "2024-07-28T13:13:09.722767Z"
    }
   },
   "outputs": [
    {
     "name": "stdout",
     "output_type": "stream",
     "text": [
      "Attaching 'model.safetensors' from model 'keras/roberta/keras/roberta_base_en/2' to your Kaggle notebook...\n",
      "Attaching 'model.safetensors.index.json' from model 'keras/roberta/keras/roberta_base_en/2' to your Kaggle notebook...\n",
      "Attaching 'metadata.json' from model 'keras/roberta/keras/roberta_base_en/2' to your Kaggle notebook...\n",
      "Attaching 'metadata.json' from model 'keras/roberta/keras/roberta_base_en/2' to your Kaggle notebook...\n",
      "Attaching 'preprocessor.json' from model 'keras/roberta/keras/roberta_base_en/2' to your Kaggle notebook...\n",
      "Attaching 'tokenizer.json' from model 'keras/roberta/keras/roberta_base_en/2' to your Kaggle notebook...\n",
      "Attaching 'tokenizer.json' from model 'keras/roberta/keras/roberta_base_en/2' to your Kaggle notebook...\n",
      "Attaching 'assets/tokenizer/vocabulary.json' from model 'keras/roberta/keras/roberta_base_en/2' to your Kaggle notebook...\n",
      "Attaching 'assets/tokenizer/merges.txt' from model 'keras/roberta/keras/roberta_base_en/2' to your Kaggle notebook...\n",
      "Attaching 'model.safetensors' from model 'keras/roberta/keras/roberta_base_en/2' to your Kaggle notebook...\n",
      "Attaching 'model.safetensors.index.json' from model 'keras/roberta/keras/roberta_base_en/2' to your Kaggle notebook...\n",
      "Attaching 'metadata.json' from model 'keras/roberta/keras/roberta_base_en/2' to your Kaggle notebook...\n",
      "Attaching 'metadata.json' from model 'keras/roberta/keras/roberta_base_en/2' to your Kaggle notebook...\n",
      "Attaching 'task.json' from model 'keras/roberta/keras/roberta_base_en/2' to your Kaggle notebook...\n",
      "Attaching 'config.json' from model 'keras/roberta/keras/roberta_base_en/2' to your Kaggle notebook...\n",
      "Attaching 'model.safetensors' from model 'keras/roberta/keras/roberta_base_en/2' to your Kaggle notebook...\n",
      "Attaching 'model.safetensors.index.json' from model 'keras/roberta/keras/roberta_base_en/2' to your Kaggle notebook...\n",
      "Attaching 'metadata.json' from model 'keras/roberta/keras/roberta_base_en/2' to your Kaggle notebook...\n",
      "Attaching 'metadata.json' from model 'keras/roberta/keras/roberta_base_en/2' to your Kaggle notebook...\n",
      "Attaching 'config.json' from model 'keras/roberta/keras/roberta_base_en/2' to your Kaggle notebook...\n",
      "Attaching 'config.json' from model 'keras/roberta/keras/roberta_base_en/2' to your Kaggle notebook...\n",
      "Attaching 'model.weights.h5' from model 'keras/roberta/keras/roberta_base_en/2' to your Kaggle notebook...\n",
      "Epoch 1/5\n"
     ]
    },
    {
     "name": "stderr",
     "output_type": "stream",
     "text": [
      "WARNING: All log messages before absl::InitializeLog() is called are written to STDERR\n",
      "I0000 00:00:1722172520.819954     106 device_compiler.h:186] Compiled cluster using XLA!  This line is logged at most once for the lifetime of the process.\n",
      "W0000 00:00:1722172520.895273     106 graph_launch.cc:671] Fallback to op-by-op mode because memset node breaks graph update\n"
     ]
    },
    {
     "name": "stdout",
     "output_type": "stream",
     "text": [
      "\u001b[1m380/381\u001b[0m \u001b[32m━━━━━━━━━━━━━━━━━━━\u001b[0m\u001b[37m━\u001b[0m \u001b[1m1s\u001b[0m 1s/step - accuracy: 0.7398 - loss: 0.5167"
     ]
    },
    {
     "name": "stderr",
     "output_type": "stream",
     "text": [
      "W0000 00:00:1722173142.232035     106 graph_launch.cc:671] Fallback to op-by-op mode because memset node breaks graph update\n"
     ]
    },
    {
     "name": "stdout",
     "output_type": "stream",
     "text": [
      "\u001b[1m381/381\u001b[0m \u001b[32m━━━━━━━━━━━━━━━━━━━━\u001b[0m\u001b[37m\u001b[0m \u001b[1m0s\u001b[0m 2s/step - accuracy: 0.7400 - loss: 0.5165"
     ]
    },
    {
     "name": "stderr",
     "output_type": "stream",
     "text": [
      "W0000 00:00:1722173151.894059     106 graph_launch.cc:671] Fallback to op-by-op mode because memset node breaks graph update\n"
     ]
    },
    {
     "name": "stdout",
     "output_type": "stream",
     "text": [
      "\n",
      "Epoch 1: val_accuracy improved from -inf to 0.85161, saving model to best_roberta_model.keras\n"
     ]
    },
    {
     "name": "stderr",
     "output_type": "stream",
     "text": [
      "W0000 00:00:1722173197.923404     108 graph_launch.cc:671] Fallback to op-by-op mode because memset node breaks graph update\n"
     ]
    },
    {
     "name": "stdout",
     "output_type": "stream",
     "text": [
      "\u001b[1m381/381\u001b[0m \u001b[32m━━━━━━━━━━━━━━━━━━━━\u001b[0m\u001b[37m\u001b[0m \u001b[1m798s\u001b[0m 2s/step - accuracy: 0.7401 - loss: 0.5163 - val_accuracy: 0.8516 - val_loss: 0.3756\n",
      "Epoch 2/5\n",
      "\u001b[1m381/381\u001b[0m \u001b[32m━━━━━━━━━━━━━━━━━━━━\u001b[0m\u001b[37m\u001b[0m \u001b[1m0s\u001b[0m 1s/step - accuracy: 0.8587 - loss: 0.3488\n",
      "Epoch 2: val_accuracy did not improve from 0.85161\n",
      "\u001b[1m381/381\u001b[0m \u001b[32m━━━━━━━━━━━━━━━━━━━━\u001b[0m\u001b[37m\u001b[0m \u001b[1m604s\u001b[0m 2s/step - accuracy: 0.8587 - loss: 0.3488 - val_accuracy: 0.8444 - val_loss: 0.3739\n",
      "Epoch 3/5\n",
      "\u001b[1m381/381\u001b[0m \u001b[32m━━━━━━━━━━━━━━━━━━━━\u001b[0m\u001b[37m\u001b[0m \u001b[1m0s\u001b[0m 1s/step - accuracy: 0.8842 - loss: 0.2912\n",
      "Epoch 3: val_accuracy did not improve from 0.85161\n",
      "\u001b[1m381/381\u001b[0m \u001b[32m━━━━━━━━━━━━━━━━━━━━\u001b[0m\u001b[37m\u001b[0m \u001b[1m614s\u001b[0m 2s/step - accuracy: 0.8842 - loss: 0.2912 - val_accuracy: 0.8240 - val_loss: 0.4289\n",
      "Epoch 4/5\n",
      "\u001b[1m381/381\u001b[0m \u001b[32m━━━━━━━━━━━━━━━━━━━━\u001b[0m\u001b[37m\u001b[0m \u001b[1m0s\u001b[0m 1s/step - accuracy: 0.9141 - loss: 0.2316\n",
      "Epoch 4: val_accuracy did not improve from 0.85161\n",
      "\u001b[1m381/381\u001b[0m \u001b[32m━━━━━━━━━━━━━━━━━━━━\u001b[0m\u001b[37m\u001b[0m \u001b[1m621s\u001b[0m 2s/step - accuracy: 0.9141 - loss: 0.2316 - val_accuracy: 0.8148 - val_loss: 0.5068\n",
      "Epoch 5/5\n",
      "\u001b[1m381/381\u001b[0m \u001b[32m━━━━━━━━━━━━━━━━━━━━\u001b[0m\u001b[37m\u001b[0m \u001b[1m0s\u001b[0m 1s/step - accuracy: 0.9263 - loss: 0.1884\n",
      "Epoch 5: val_accuracy did not improve from 0.85161\n",
      "\u001b[1m381/381\u001b[0m \u001b[32m━━━━━━━━━━━━━━━━━━━━\u001b[0m\u001b[37m\u001b[0m \u001b[1m619s\u001b[0m 2s/step - accuracy: 0.9263 - loss: 0.1884 - val_accuracy: 0.8260 - val_loss: 0.5281\n"
     ]
    }
   ],
   "source": [
    "from keras.callbacks import ModelCheckpoint, EarlyStopping\n",
    "\n",
    "roberta_processor = keras_nlp.models.RobertaPreprocessor.from_preset(\n",
    "    \"roberta_base_en\"\n",
    ")\n",
    "\n",
    "roberta_model = keras_nlp.models.RobertaClassifier.from_preset(\n",
    "    \"roberta_base_en\",\n",
    "    preprocessor=roberta_processor,\n",
    "    num_classes=2\n",
    ")\n",
    "\n",
    "loss_function = keras.losses.SparseCategoricalCrossentropy(from_logits=True)\n",
    "learning_rate = 1e-5\n",
    "optimizer = keras.optimizers.Adam(learning_rate)\n",
    "\n",
    "roberta_model.compile(\n",
    "    loss=loss_function,\n",
    "    optimizer=optimizer,\n",
    "    metrics=[\"accuracy\"]\n",
    ")\n",
    "\n",
    "roberta_checkpoint = ModelCheckpoint(\n",
    "    'best_roberta_model.keras',\n",
    "    monitor='val_accuracy',\n",
    "    save_best_only=True,\n",
    "    mode='max',\n",
    "    verbose=1\n",
    ")\n",
    "\n",
    "\n",
    "# Start training and store the history\n",
    "roberta_history = roberta_model.fit(\n",
    "    X_train,\n",
    "    y_train,\n",
    "    batch_size=16,\n",
    "    epochs=5,\n",
    "    validation_data=(X_val, y_val),\n",
    "    callbacks=[roberta_checkpoint],\n",
    "    verbose=True\n",
    ")\n",
    "\n",
    "# Load the best weights after training\n",
    "roberta_model.load_weights('best_roberta_model.keras')"
   ]
  },
  {
   "cell_type": "markdown",
   "metadata": {},
   "source": [
    "# Results and Analysis (35 pts)\n",
    "\n",
    "\n"
   ]
  },
  {
   "cell_type": "markdown",
   "metadata": {},
   "source": [
    "### Plotting the Training History\n",
    "\n",
    "To visualize the training process and performance of the model, we plot the training and validation accuracy and loss over the epochs for the selected RoBERTa model."
   ]
  },
  {
   "cell_type": "code",
   "execution_count": 16,
   "metadata": {
    "execution": {
     "iopub.execute_input": "2024-07-28T14:15:45.943767Z",
     "iopub.status.busy": "2024-07-28T14:15:45.943403Z",
     "iopub.status.idle": "2024-07-28T14:15:46.199171Z",
     "shell.execute_reply": "2024-07-28T14:15:46.198248Z",
     "shell.execute_reply.started": "2024-07-28T14:15:45.943737Z"
    }
   },
   "outputs": [
    {
     "data": {
      "image/png": "[encoded data removed]",
      "text/plain": [
       "<Figure size 640x480 with 1 Axes>"
      ]
     },
     "metadata": {},
     "output_type": "display_data"
    }
   ],
   "source": [
    "# Plot the results\n",
    "def plot_history(history, model_name):\n",
    "    plt.plot(history.history['accuracy'], label='Training Accuracy')\n",
    "    plt.plot(history.history['val_accuracy'], label='Validation Accuracy')\n",
    "    plt.title('Training and Validation Accuracy')\n",
    "    plt.xlabel('Epochs')\n",
    "    plt.ylabel('Accuracy')\n",
    "    plt.legend()\n",
    "    plt.show()\n",
    "\n",
    "plot_history(roberta_history, 'RoBERTa')"
   ]
  },
  {
   "cell_type": "markdown",
   "metadata": {},
   "source": [
    "The training/validation accuracy vs. epoch diagram shows that the model reached optimal performance roughly at the first epoch. This may be due to using a rather sophisticated model compared to the dataset, which is relatively small.\n",
    "\n",
    "As mentioned previously, `RoBERTa` was selected as the base model because it performs better than `DistilBERT`, though the difference is not substantial. Also, the hyperparameter search shows that a smaller learning rate works better in this case.\n",
    "\n",
    "During the training process, a batch size of 32 frequently caused `RoBERTa` training to exceed the memory limits of the kernel, corrupting it. We had to use a smaller batch size (16) to successfully complete the training of `RoBERTa`. This issue was challenging to debug because the notebook would sometimes clear the output and reset the kernel, leaving us without any clues. I've tried running the notebook in background mode to gather more logs to help identify the issue."
   ]
  },
  {
   "cell_type": "markdown",
   "metadata": {},
   "source": [
    "# Conclusion (15 pts)\n",
    "\n",
    "\n",
    "## 1. Results Overview:\n",
    "\n",
    "RoBERTa model outperformed DistilBERT model probably due larger model parameters, which allowed it to capture more complex patterns and features from the images.\n",
    "\n",
    "## 2. Learnings and Takeaways:\n",
    "\n",
    "- Training on a CPU was extremely inefficient and time-consuming, making it impractical for this assignment. Using a personal laptop proved to be insufficient for the computational demands of training these models.\n",
    "- Utilizing platforms like Google Colab or Kaggle, which offer GPU resources, significantly improves training efficiency and reduces setup time.\n",
    "\n",
    "## 3. Challenges:\n",
    "\n",
    "Training on a CPU was nearly impossible to complete the assignment in a reasonable timeframe. Even with GPU resources, training the models took a considerable amount of time, leaving limited time for hyperparameter tuning and experimentation.\n",
    "\n",
    "## 4. Future Improvements:\n",
    "\n",
    "To improve the process, we could focus more on proper modeling selection and hyperparameter training. A sophiscated BERT model can inheritantly perform this task well, so more effort should be put into the hyperparameter tuning to futher increase the prediction score."
   ]
  },
  {
   "cell_type": "markdown",
   "metadata": {},
   "source": [
    "# Submission"
   ]
  },
  {
   "cell_type": "code",
   "execution_count": 17,
   "metadata": {
    "execution": {
     "iopub.execute_input": "2024-07-28T14:15:55.490582Z",
     "iopub.status.busy": "2024-07-28T14:15:55.490214Z",
     "iopub.status.idle": "2024-07-28T14:17:44.681897Z",
     "shell.execute_reply": "2024-07-28T14:17:44.681045Z",
     "shell.execute_reply.started": "2024-07-28T14:15:55.490552Z"
    }
   },
   "outputs": [
    {
     "name": "stdout",
     "output_type": "stream",
     "text": [
      "\u001b[1m  1/102\u001b[0m \u001b[37m━━━━━━━━━━━━━━━━━━━━\u001b[0m \u001b[1m12:18\u001b[0m 7s/step"
     ]
    },
    {
     "name": "stderr",
     "output_type": "stream",
     "text": [
      "W0000 00:00:1722176166.363896     107 graph_launch.cc:671] Fallback to op-by-op mode because memset node breaks graph update\n"
     ]
    },
    {
     "name": "stdout",
     "output_type": "stream",
     "text": [
      "\u001b[1m102/102\u001b[0m \u001b[32m━━━━━━━━━━━━━━━━━━━━\u001b[0m\u001b[37m\u001b[0m \u001b[1m105s\u001b[0m 964ms/step\n"
     ]
    },
    {
     "name": "stderr",
     "output_type": "stream",
     "text": [
      "W0000 00:00:1722176263.732501     106 graph_launch.cc:671] Fallback to op-by-op mode because memset node breaks graph update\n"
     ]
    }
   ],
   "source": [
    "submission = pd.read_csv(\"/kaggle/input/nlp-getting-started/sample_submission.csv\")\n",
    "submission[\"target\"] = np.argmax(roberta_model.predict(df_test['text']), axis=1)\n",
    "submission.to_csv(\"submission.csv\", index=False)"
   ]
  },
  {
   "cell_type": "code",
   "execution_count": 18,
   "metadata": {
    "execution": {
     "iopub.execute_input": "2024-07-28T14:17:51.731500Z",
     "iopub.status.busy": "2024-07-28T14:17:51.730856Z",
     "iopub.status.idle": "2024-07-28T14:17:51.740449Z",
     "shell.execute_reply": "2024-07-28T14:17:51.739466Z",
     "shell.execute_reply.started": "2024-07-28T14:17:51.731468Z"
    }
   },
   "outputs": [
    {
     "data": {
      "text/html": [
       "<div>\n",
       "<style scoped>\n",
       "    .dataframe tbody tr th:only-of-type {\n",
       "        vertical-align: middle;\n",
       "    }\n",
       "\n",
       "    .dataframe tbody tr th {\n",
       "        vertical-align: top;\n",
       "    }\n",
       "\n",
       "    .dataframe thead th {\n",
       "        text-align: right;\n",
       "    }\n",
       "</style>\n",
       "<table border=\"1\" class=\"dataframe\">\n",
       "  <thead>\n",
       "    <tr style=\"text-align: right;\">\n",
       "      <th></th>\n",
       "      <th>id</th>\n",
       "      <th>target</th>\n",
       "    </tr>\n",
       "  </thead>\n",
       "  <tbody>\n",
       "    <tr>\n",
       "      <th>0</th>\n",
       "      <td>0</td>\n",
       "      <td>1</td>\n",
       "    </tr>\n",
       "    <tr>\n",
       "      <th>1</th>\n",
       "      <td>2</td>\n",
       "      <td>1</td>\n",
       "    </tr>\n",
       "    <tr>\n",
       "      <th>2</th>\n",
       "      <td>3</td>\n",
       "      <td>1</td>\n",
       "    </tr>\n",
       "    <tr>\n",
       "      <th>3</th>\n",
       "      <td>9</td>\n",
       "      <td>1</td>\n",
       "    </tr>\n",
       "    <tr>\n",
       "      <th>4</th>\n",
       "      <td>11</td>\n",
       "      <td>1</td>\n",
       "    </tr>\n",
       "  </tbody>\n",
       "</table>\n",
       "</div>"
      ],
      "text/plain": [
       "   id  target\n",
       "0   0       1\n",
       "1   2       1\n",
       "2   3       1\n",
       "3   9       1\n",
       "4  11       1"
      ]
     },
     "execution_count": 18,
     "metadata": {},
     "output_type": "execute_result"
    }
   ],
   "source": [
    "submission.head()"
   ]
  },
  {
   "cell_type": "code",
   "execution_count": null,
   "metadata": {},
   "outputs": [],
   "source": []
  },
  {
   "cell_type": "code",
   "execution_count": null,
   "metadata": {},
   "outputs": [],
   "source": []
  }
 ],
 "metadata": {
  "kaggle": {
   "accelerator": "nvidiaTeslaT4",
   "dataSources": [
    {
     "databundleVersionId": 869809,
     "sourceId": 17777,
     "sourceType": "competition"
    },
    {
     "modelId": 2821,
     "modelInstanceId": 4689,
     "sourceId": 6068,
     "sourceType": "modelInstanceVersion"
    },
    {
     "modelId": 2828,
     "modelInstanceId": 4703,
     "sourceId": 6169,
     "sourceType": "modelInstanceVersion"
    }
   ],
   "dockerImageVersionId": 30747,
   "isGpuEnabled": true,
   "isInternetEnabled": true,
   "language": "python",
   "sourceType": "notebook"
  },
  "kernelspec": {
   "display_name": "Python 3 (ipykernel)",
   "language": "python",
   "name": "python3"
  },
  "language_info": {
   "codemirror_mode": {
    "name": "ipython",
    "version": 3
   },
   "file_extension": ".py",
   "mimetype": "text/x-python",
   "name": "python",
   "nbconvert_exporter": "python",
   "pygments_lexer": "ipython3",
   "version": "3.11.5"
  }
 },
 "nbformat": 4,
 "nbformat_minor": 4
}
